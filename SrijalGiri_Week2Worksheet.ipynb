{
  "nbformat": 4,
  "nbformat_minor": 0,
  "metadata": {
    "colab": {
      "provenance": []
    },
    "kernelspec": {
      "name": "python3",
      "display_name": "Python 3"
    },
    "language_info": {
      "name": "python"
    }
  },
  "cells": [
    {
      "cell_type": "code",
      "execution_count": null,
      "metadata": {
        "colab": {
          "base_uri": "https://localhost:8080/"
        },
        "id": "OKMF1YPQEUCj",
        "outputId": "a9f44db5-5f2f-4131-9153-2d34152cc14d"
      },
      "outputs": [
        {
          "output_type": "stream",
          "name": "stdout",
          "text": [
            "0    10\n",
            "1    20\n",
            "2    30\n",
            "3    40\n",
            "dtype: int64\n"
          ]
        }
      ],
      "source": [
        "import pandas as pd\n",
        "# Creating a simple Series\n",
        "data = [10, 20, 30, 40]\n",
        "series = pd.Series(data)\n",
        "print(series)"
      ]
    },
    {
      "cell_type": "code",
      "source": [
        "# Default Index\n",
        "import pandas as pd\n",
        "series = pd.Series([10, 20, 30])\n",
        "print(series.index)\n",
        "# Output: RangeIndex(start=0, stop=3, step=1)\n",
        "# User Defined:\n",
        "series = pd.Series([10, 20, 30],index=['a','b','c'])\n",
        "print(series)\n",
        "#datestime index\n",
        "dates = pd.date_range('2023-01-01', periods=3)\n",
        "series = pd.Series([10, 20, 30], index=dates)\n",
        "print(series)"
      ],
      "metadata": {
        "colab": {
          "base_uri": "https://localhost:8080/"
        },
        "id": "HyJ5yW7hF09B",
        "outputId": "730db8a4-9743-4b29-d3ad-c36c8cf04ea6"
      },
      "execution_count": null,
      "outputs": [
        {
          "output_type": "stream",
          "name": "stdout",
          "text": [
            "RangeIndex(start=0, stop=3, step=1)\n",
            "a    10\n",
            "b    20\n",
            "c    30\n",
            "dtype: int64\n",
            "2023-01-01    10\n",
            "2023-01-02    20\n",
            "2023-01-03    30\n",
            "Freq: D, dtype: int64\n"
          ]
        }
      ]
    },
    {
      "cell_type": "code",
      "source": [
        "import pandas as pd\n",
        "# Sample DataFrame\n",
        "data = {\n",
        "'Name': ['Alice', 'Bob', 'Charlie'],\n",
        "'Age': [25, 30, 35],\n",
        "'Salary': [50000, 60000, 70000]\n",
        "}\n",
        "df = pd.DataFrame(data)\n",
        "# View the first two rows\n",
        "print(df.head(2))\n",
        "# View the last row\n",
        "print(df.tail(1))\n",
        "# DataFrame information\n",
        "print(df.info())\n",
        "# Summary statistics\n",
        "print(df.describe())\n",
        "# Check dimensions of the DataFrame\n",
        "print(f\"The DataFrame has {df.shape[0]} rows and {df.shape[1]} columns.\")\n",
        "# Access the ’Age’ column\n",
        "print(df['Age'])\n",
        "# Select rows by numerical index\n",
        "print(df.iloc[0]) # First row\n",
        "# Select rows by condition\n",
        "print(df.loc[df['Age'] > 30]) # Rows where Age > 30"
      ],
      "metadata": {
        "colab": {
          "base_uri": "https://localhost:8080/"
        },
        "id": "9Ae4Ul8fF9KM",
        "outputId": "be53dbc2-15dc-4ca2-f232-f091e72fb7cc"
      },
      "execution_count": null,
      "outputs": [
        {
          "output_type": "stream",
          "name": "stdout",
          "text": [
            "    Name  Age  Salary\n",
            "0  Alice   25   50000\n",
            "1    Bob   30   60000\n",
            "      Name  Age  Salary\n",
            "2  Charlie   35   70000\n",
            "<class 'pandas.core.frame.DataFrame'>\n",
            "RangeIndex: 3 entries, 0 to 2\n",
            "Data columns (total 3 columns):\n",
            " #   Column  Non-Null Count  Dtype \n",
            "---  ------  --------------  ----- \n",
            " 0   Name    3 non-null      object\n",
            " 1   Age     3 non-null      int64 \n",
            " 2   Salary  3 non-null      int64 \n",
            "dtypes: int64(2), object(1)\n",
            "memory usage: 200.0+ bytes\n",
            "None\n",
            "        Age   Salary\n",
            "count   3.0      3.0\n",
            "mean   30.0  60000.0\n",
            "std     5.0  10000.0\n",
            "min    25.0  50000.0\n",
            "25%    27.5  55000.0\n",
            "50%    30.0  60000.0\n",
            "75%    32.5  65000.0\n",
            "max    35.0  70000.0\n",
            "The DataFrame has 3 rows and 3 columns.\n",
            "0    25\n",
            "1    30\n",
            "2    35\n",
            "Name: Age, dtype: int64\n",
            "Name      Alice\n",
            "Age          25\n",
            "Salary    50000\n",
            "Name: 0, dtype: object\n",
            "      Name  Age  Salary\n",
            "2  Charlie   35   70000\n"
          ]
        }
      ]
    },
    {
      "cell_type": "code",
      "source": [
        "import pandas as pd\n",
        "data=pd.read_csv(\"/content/drive/MyDrive/Week 2/Datasets-20241202T014921Z-001/Datasets/bank .csv\")\n",
        "print(data.info())\n",
        "\n",
        "object_columns = data.select_dtypes(include=['object']).columns\n",
        "print(f\"Columns with dtype 'object': {object_columns}\")\n",
        "\n",
        "for col in object_columns:\n",
        "    print(f\"Unique values in column '{col}': {data[col].unique()}\")\n",
        "\n",
        "null_values = data.isnull().sum()\n",
        "print(f\"Total number of null values in each column:\\n{null_values}\")\n",
        "\n",
        "numeric_data = data.drop(columns=object_columns)\n",
        "\n",
        "numeric_data.to_csv(\"/content/drive/MyDrive/Week 2/Datasets-20241202T014921Z-001/Datasets/banknumericdata .csv\", index=False)\n",
        "\n",
        "numeric_data_summary = pd.read_csv(\"/content/drive/MyDrive/Week 2/Datasets-20241202T014921Z-001/Datasets/banknumericdata .csv\")\n",
        "summary_statistics = numeric_data_summary.describe()\n",
        "print(f\"Summary statistics:\\n{summary_statistics}\")\n",
        "import pandas as pd\n",
        "\n",
        "data = pd.read_csv(\"/content/drive/MyDrive/Week 2/Datasets-20241202T014921Z-001/Datasets/banknumericdata .csv\")\n",
        "print(data.head())\n",
        "\n",
        "print(data.info())\n",
        "\n",
        "missing_data = data.isnull().sum()\n",
        "print(f\"Columns with missing values:\\n{missing_data}\")\n"
      ],
      "metadata": {
        "id": "zPMsQOoqGeSt",
        "colab": {
          "base_uri": "https://localhost:8080/"
        },
        "outputId": "76452f5a-3e57-44f8-8ee8-ca5274ed720f"
      },
      "execution_count": null,
      "outputs": [
        {
          "output_type": "stream",
          "name": "stdout",
          "text": [
            "<class 'pandas.core.frame.DataFrame'>\n",
            "RangeIndex: 45211 entries, 0 to 45210\n",
            "Data columns (total 7 columns):\n",
            " #   Column    Non-Null Count  Dtype\n",
            "---  ------    --------------  -----\n",
            " 0   age       45211 non-null  int64\n",
            " 1   balance   45211 non-null  int64\n",
            " 2   day       45211 non-null  int64\n",
            " 3   duration  45211 non-null  int64\n",
            " 4   campaign  45211 non-null  int64\n",
            " 5   pdays     45211 non-null  int64\n",
            " 6   previous  45211 non-null  int64\n",
            "dtypes: int64(7)\n",
            "memory usage: 2.4 MB\n",
            "None\n",
            "Columns with dtype 'object': Index([], dtype='object')\n",
            "Total number of null values in each column:\n",
            "age         0\n",
            "balance     0\n",
            "day         0\n",
            "duration    0\n",
            "campaign    0\n",
            "pdays       0\n",
            "previous    0\n",
            "dtype: int64\n",
            "Summary statistics:\n",
            "                age        balance           day      duration      campaign  \\\n",
            "count  45211.000000   45211.000000  45211.000000  45211.000000  45211.000000   \n",
            "mean      40.936210    1362.272058     15.806419    258.163080      2.763841   \n",
            "std       10.618762    3044.765829      8.322476    257.527812      3.098021   \n",
            "min       18.000000   -8019.000000      1.000000      0.000000      1.000000   \n",
            "25%       33.000000      72.000000      8.000000    103.000000      1.000000   \n",
            "50%       39.000000     448.000000     16.000000    180.000000      2.000000   \n",
            "75%       48.000000    1428.000000     21.000000    319.000000      3.000000   \n",
            "max       95.000000  102127.000000     31.000000   4918.000000     63.000000   \n",
            "\n",
            "              pdays      previous  \n",
            "count  45211.000000  45211.000000  \n",
            "mean      40.197828      0.580323  \n",
            "std      100.128746      2.303441  \n",
            "min       -1.000000      0.000000  \n",
            "25%       -1.000000      0.000000  \n",
            "50%       -1.000000      0.000000  \n",
            "75%       -1.000000      0.000000  \n",
            "max      871.000000    275.000000  \n",
            "   age  balance  day  duration  campaign  pdays  previous\n",
            "0   58     2143    5       261         1     -1         0\n",
            "1   44       29    5       151         1     -1         0\n",
            "2   33        2    5        76         1     -1         0\n",
            "3   47     1506    5        92         1     -1         0\n",
            "4   33        1    5       198         1     -1         0\n",
            "<class 'pandas.core.frame.DataFrame'>\n",
            "RangeIndex: 45211 entries, 0 to 45210\n",
            "Data columns (total 7 columns):\n",
            " #   Column    Non-Null Count  Dtype\n",
            "---  ------    --------------  -----\n",
            " 0   age       45211 non-null  int64\n",
            " 1   balance   45211 non-null  int64\n",
            " 2   day       45211 non-null  int64\n",
            " 3   duration  45211 non-null  int64\n",
            " 4   campaign  45211 non-null  int64\n",
            " 5   pdays     45211 non-null  int64\n",
            " 6   previous  45211 non-null  int64\n",
            "dtypes: int64(7)\n",
            "memory usage: 2.4 MB\n",
            "None\n",
            "Columns with missing values:\n",
            "age         0\n",
            "balance     0\n",
            "day         0\n",
            "duration    0\n",
            "campaign    0\n",
            "pdays       0\n",
            "previous    0\n",
            "dtype: int64\n"
          ]
        }
      ]
    },
    {
      "cell_type": "code",
      "source": [
        "from google.colab import drive\n",
        "drive.mount('/content/drive')"
      ],
      "metadata": {
        "colab": {
          "base_uri": "https://localhost:8080/"
        },
        "id": "-dmwwUV59kd5",
        "outputId": "2c6a1113-1424-4e1c-afd4-e99357b19981"
      },
      "execution_count": null,
      "outputs": [
        {
          "output_type": "stream",
          "name": "stdout",
          "text": [
            "Mounted at /content/drive\n"
          ]
        }
      ]
    },
    {
      "cell_type": "code",
      "source": [
        "import pandas as pd\n",
        "\n",
        "data = pd.read_csv('/content/drive/MyDrive/Week 2/Datasets-20241202T014921Z-001/Datasets/medical_students_dataset.csv')\n",
        "print(data.head())\n",
        "\n",
        "print(data.info())\n",
        "\n",
        "missing_data = data.isnull().sum()\n",
        "print(f\"Columns with missing values:\\n{missing_data}\")\n",
        "\n",
        "\n",
        "for column in missing_data[missing_data > 0].index:\n",
        "    print(f\"Missing values in column: {column}\")\n",
        "\n",
        "    if data[column].dtype in ['float64', 'int64']:\n",
        "        if data[column].skew() > 1:\n",
        "            data[column].fillna(data[column].median(), inplace=True)\n",
        "            print(f\"Filled missing values in '{column}' using median.\")\n",
        "        else:\n",
        "            data[column].fillna(data[column].mean(), inplace=True)\n",
        "            print(f\"Filled missing values in '{column}' using mean.\")\n",
        "\n",
        "    elif data[column].dtype == 'object':\n",
        "        data[column].fillna(data[column].mode()[0], inplace=True)\n",
        "        print(f\"Filled missing values in '{column}' using mode.\")\n",
        "\n",
        "duplicates = data.duplicated().sum()\n",
        "print(f\"Number of duplicate rows: {duplicates}\")\n",
        "\n",
        "if duplicates > 0:\n",
        "    data.drop_duplicates(inplace=True)\n",
        "    print(f\"Duplicates removed. Remaining rows: {len(data)}\")\n",
        "else:\n",
        "    print(\"No duplicates found.\")\n",
        "\n",
        "print(data.head())"
      ],
      "metadata": {
        "id": "8FLIYoZ_Nrkm",
        "colab": {
          "base_uri": "https://localhost:8080/"
        },
        "outputId": "06a15018-378a-4050-ed6e-921b4101d9b3"
      },
      "execution_count": null,
      "outputs": [
        {
          "output_type": "stream",
          "name": "stdout",
          "text": [
            "   Student ID   Age  Gender      Height     Weight Blood Type        BMI  \\\n",
            "0         1.0  18.0  Female  161.777924  72.354947          O  27.645835   \n",
            "1         2.0   NaN    Male  152.069157  47.630941          B        NaN   \n",
            "2         3.0  32.0  Female  182.537664  55.741083          A  16.729017   \n",
            "3         NaN  30.0    Male  182.112867  63.332207          B  19.096042   \n",
            "4         5.0  23.0  Female         NaN  46.234173          O        NaN   \n",
            "\n",
            "   Temperature  Heart Rate  Blood Pressure  Cholesterol Diabetes Smoking  \n",
            "0          NaN        95.0           109.0        203.0       No     NaN  \n",
            "1    98.714977        93.0           104.0        163.0       No      No  \n",
            "2    98.260293        76.0           130.0        216.0      Yes      No  \n",
            "3    98.839605        99.0           112.0        141.0       No     Yes  \n",
            "4    98.480008        95.0             NaN        231.0       No      No  \n",
            "<class 'pandas.core.frame.DataFrame'>\n",
            "RangeIndex: 200000 entries, 0 to 199999\n",
            "Data columns (total 13 columns):\n",
            " #   Column          Non-Null Count   Dtype  \n",
            "---  ------          --------------   -----  \n",
            " 0   Student ID      180000 non-null  float64\n",
            " 1   Age             180000 non-null  float64\n",
            " 2   Gender          180000 non-null  object \n",
            " 3   Height          180000 non-null  float64\n",
            " 4   Weight          180000 non-null  float64\n",
            " 5   Blood Type      180000 non-null  object \n",
            " 6   BMI             180000 non-null  float64\n",
            " 7   Temperature     180000 non-null  float64\n",
            " 8   Heart Rate      180000 non-null  float64\n",
            " 9   Blood Pressure  180000 non-null  float64\n",
            " 10  Cholesterol     180000 non-null  float64\n",
            " 11  Diabetes        180000 non-null  object \n",
            " 12  Smoking         180000 non-null  object \n",
            "dtypes: float64(9), object(4)\n",
            "memory usage: 19.8+ MB\n",
            "None\n",
            "Columns with missing values:\n",
            "Student ID        20000\n",
            "Age               20000\n",
            "Gender            20000\n",
            "Height            20000\n",
            "Weight            20000\n",
            "Blood Type        20000\n",
            "BMI               20000\n",
            "Temperature       20000\n",
            "Heart Rate        20000\n",
            "Blood Pressure    20000\n",
            "Cholesterol       20000\n",
            "Diabetes          20000\n",
            "Smoking           20000\n",
            "dtype: int64\n",
            "Missing values in column: Student ID\n",
            "Filled missing values in 'Student ID' using mean.\n",
            "Missing values in column: Age\n",
            "Filled missing values in 'Age' using mean.\n",
            "Missing values in column: Gender\n",
            "Filled missing values in 'Gender' using mode.\n",
            "Missing values in column: Height\n",
            "Filled missing values in 'Height' using mean.\n",
            "Missing values in column: Weight\n",
            "Filled missing values in 'Weight' using mean.\n",
            "Missing values in column: Blood Type\n",
            "Filled missing values in 'Blood Type' using mode.\n",
            "Missing values in column: BMI\n",
            "Filled missing values in 'BMI' using mean.\n",
            "Missing values in column: Temperature\n",
            "Filled missing values in 'Temperature' using mean.\n",
            "Missing values in column: Heart Rate\n",
            "Filled missing values in 'Heart Rate' using mean.\n",
            "Missing values in column: Blood Pressure\n",
            "Filled missing values in 'Blood Pressure' using mean.\n",
            "Missing values in column: Cholesterol\n",
            "Filled missing values in 'Cholesterol' using mean.\n",
            "Missing values in column: Diabetes\n"
          ]
        },
        {
          "output_type": "stream",
          "name": "stderr",
          "text": [
            "<ipython-input-4-017fd2794777>:20: FutureWarning: A value is trying to be set on a copy of a DataFrame or Series through chained assignment using an inplace method.\n",
            "The behavior will change in pandas 3.0. This inplace method will never work because the intermediate object on which we are setting values always behaves as a copy.\n",
            "\n",
            "For example, when doing 'df[col].method(value, inplace=True)', try using 'df.method({col: value}, inplace=True)' or df[col] = df[col].method(value) instead, to perform the operation inplace on the original object.\n",
            "\n",
            "\n",
            "  data[column].fillna(data[column].mean(), inplace=True)\n",
            "<ipython-input-4-017fd2794777>:24: FutureWarning: A value is trying to be set on a copy of a DataFrame or Series through chained assignment using an inplace method.\n",
            "The behavior will change in pandas 3.0. This inplace method will never work because the intermediate object on which we are setting values always behaves as a copy.\n",
            "\n",
            "For example, when doing 'df[col].method(value, inplace=True)', try using 'df.method({col: value}, inplace=True)' or df[col] = df[col].method(value) instead, to perform the operation inplace on the original object.\n",
            "\n",
            "\n",
            "  data[column].fillna(data[column].mode()[0], inplace=True)\n"
          ]
        },
        {
          "output_type": "stream",
          "name": "stdout",
          "text": [
            "Filled missing values in 'Diabetes' using mode.\n",
            "Missing values in column: Smoking\n",
            "Filled missing values in 'Smoking' using mode.\n",
            "Number of duplicate rows: 12572\n",
            "Duplicates removed. Remaining rows: 187428\n",
            "     Student ID        Age  Gender      Height     Weight Blood Type  \\\n",
            "0      1.000000  18.000000  Female  161.777924  72.354947          O   \n",
            "1      2.000000  26.021561    Male  152.069157  47.630941          B   \n",
            "2      3.000000  32.000000  Female  182.537664  55.741083          A   \n",
            "3  49974.042078  30.000000    Male  182.112867  63.332207          B   \n",
            "4      5.000000  23.000000  Female  174.947103  46.234173          O   \n",
            "\n",
            "         BMI  Temperature  Heart Rate  Blood Pressure  Cholesterol Diabetes  \\\n",
            "0  27.645835    98.600948        95.0      109.000000        203.0       No   \n",
            "1  23.338869    98.714977        93.0      104.000000        163.0       No   \n",
            "2  16.729017    98.260293        76.0      130.000000        216.0      Yes   \n",
            "3  19.096042    98.839605        99.0      112.000000        141.0       No   \n",
            "4  23.338869    98.480008        95.0      114.558033        231.0       No   \n",
            "\n",
            "  Smoking  \n",
            "0      No  \n",
            "1      No  \n",
            "2      No  \n",
            "3     Yes  \n",
            "4      No  \n"
          ]
        }
      ]
    },
    {
      "cell_type": "code",
      "source": [
        "import pandas as pd\n",
        "\n",
        "data = pd.read_csv('/content/drive/MyDrive/Week 2/Datasets-20241202T014921Z-001/Datasets/Titanic-Dataset.csv')\n",
        "\n",
        "subset_data = data[['Name', 'Pclass', 'Sex', 'Age', 'Fare', 'Survived']]\n",
        "\n",
        "first_class_data = subset_data[subset_data['Pclass'] == 1]\n",
        "\n",
        "mean_fare = first_class_data['Fare'].mean()\n",
        "median_fare = first_class_data['Fare'].median()\n",
        "max_fare = first_class_data['Fare'].max()\n",
        "min_fare = first_class_data['Fare'].min()\n",
        "\n",
        "print(f\"Mean Fare: {mean_fare}\")\n",
        "print(f\"Median Fare: {median_fare}\")\n",
        "print(f\"Maximum Fare: {max_fare}\")\n",
        "print(f\"Minimum Fare: {min_fare}\")\n"
      ],
      "metadata": {
        "colab": {
          "base_uri": "https://localhost:8080/"
        },
        "id": "HlSidyzg5i7V",
        "outputId": "6e49c224-79c9-4aff-9166-e2cc0db8e2a8"
      },
      "execution_count": null,
      "outputs": [
        {
          "output_type": "stream",
          "name": "stdout",
          "text": [
            "Mean Fare: 84.1546875\n",
            "Median Fare: 60.287499999999994\n",
            "Maximum Fare: 512.3292\n",
            "Minimum Fare: 0.0\n"
          ]
        }
      ]
    },
    {
      "cell_type": "code",
      "source": [
        "import pandas as pd\n",
        "import matplotlib.pyplot as plt\n",
        "\n",
        "data = pd.read_csv('/content/drive/MyDrive/Week 2/Datasets-20241202T014921Z-001/Datasets/Titanic-Dataset.csv')\n",
        "\n",
        "subset_data = data[['Name', 'Pclass', 'Sex', 'Age', 'Fare', 'Survived']]\n",
        "\n",
        "first_class_data = subset_data[subset_data['Pclass'] == 1]\n",
        "\n",
        "mean_fare = first_class_data['Fare'].mean()\n",
        "median_fare = first_class_data['Fare'].median()\n",
        "max_fare = first_class_data['Fare'].max()\n",
        "min_fare = first_class_data['Fare'].min()\n",
        "\n",
        "print(f\"Problem 1: Fare Statistics for First-Class Passengers\")\n",
        "print(f\"Mean Fare: {mean_fare}\")\n",
        "print(f\"Median Fare: {median_fare}\")\n",
        "print(f\"Maximum Fare: {max_fare}\")\n",
        "print(f\"Minimum Fare: {min_fare}\")\n",
        "print(\"\\n\")\n",
        "\n",
        "null_age_count = first_class_data['Age'].isnull().sum()\n",
        "first_class_data_clean = first_class_data.dropna(subset=['Age'])\n",
        "\n",
        "print(f\"Problem 2: Number of null values in 'Age' column: {null_age_count}\")\n",
        "print(f\"After dropping, the shape of the data: {first_class_data_clean.shape}\")\n",
        "print(\"\\n\")\n",
        "\n",
        "embarked_encoded = pd.get_dummies(data['Embarked'], prefix='Embarked')\n",
        "data_with_embarked = data.join(embarked_encoded)\n",
        "data_with_embarked = data_with_embarked.drop(columns=['Embarked'])\n",
        "\n",
        "print(f\"Problem 3: Data with One-Hot Encoded 'Embarked' columns\")\n",
        "print(data_with_embarked[['Embarked_C', 'Embarked_Q', 'Embarked_S']].head())\n",
        "print(\"\\n\")\n",
        "\n",
        "survival_by_sex = data.groupby('Sex')['Survived'].mean()\n",
        "\n",
        "survival_by_sex.plot(kind='bar', title='Mean Survival Rate by Sex')\n",
        "plt.ylabel('Survival Rate')\n",
        "plt.show()\n",
        "\n",
        "print(f\"Problem 4: Mean Survival Rate by Sex\")\n",
        "print(survival_by_sex)\n",
        "print(\"\\n\")\n",
        "\n",
        "survival_by_embarked = data.groupby('Embarked')['Survived'].mean()\n",
        "\n",
        "survival_by_embarked.plot(kind='bar', title='Mean Survival Rate by Embarked Port')\n",
        "plt.ylabel('Survival Rate')\n",
        "plt.show()\n",
        "\n",
        "print(f\"Problem 5: Mean Survival Rate by Embarked Port\")\n",
        "print(survival_by_embarked)\n",
        "print(\"\\n\")\n",
        "\n",
        "data['AgeGroup'] = pd.qcut(data['Age'], 5, labels=False)\n",
        "\n",
        "survival_by_class_age = data.groupby(['Pclass', 'AgeGroup'])['Survived'].mean()\n",
        "\n",
        "survival_by_class_age.unstack().plot(kind='bar', stacked=True, title='Survival Rate by Age Group and Class')\n",
        "plt.ylabel('Survival Rate')\n",
        "plt.show()\n",
        "\n",
        "print(f\"Problem 6: Survival Rate by Age Group and Passenger Class\")\n",
        "print(survival_by_class_age)\n"
      ],
      "metadata": {
        "colab": {
          "base_uri": "https://localhost:8080/",
          "height": 1000
        },
        "id": "GhOfDUTR5riS",
        "outputId": "12022bee-ac88-4c23-fbee-962ce45277e7"
      },
      "execution_count": null,
      "outputs": [
        {
          "output_type": "stream",
          "name": "stdout",
          "text": [
            "Problem 1: Fare Statistics for First-Class Passengers\n",
            "Mean Fare: 84.1546875\n",
            "Median Fare: 60.287499999999994\n",
            "Maximum Fare: 512.3292\n",
            "Minimum Fare: 0.0\n",
            "\n",
            "\n",
            "Problem 2: Number of null values in 'Age' column: 30\n",
            "After dropping, the shape of the data: (186, 6)\n",
            "\n",
            "\n",
            "Problem 3: Data with One-Hot Encoded 'Embarked' columns\n",
            "   Embarked_C  Embarked_Q  Embarked_S\n",
            "0       False       False        True\n",
            "1        True       False       False\n",
            "2       False       False        True\n",
            "3       False       False        True\n",
            "4       False       False        True\n",
            "\n",
            "\n"
          ]
        },
        {
          "output_type": "display_data",
          "data": {
            "text/plain": [
              "<Figure size 640x480 with 1 Axes>"
            ],
            "image/png": "[encoded data removed]"
          },
          "metadata": {}
        },
        {
          "output_type": "stream",
          "name": "stdout",
          "text": [
            "Problem 4: Mean Survival Rate by Sex\n",
            "Sex\n",
            "female    0.742038\n",
            "male      0.188908\n",
            "Name: Survived, dtype: float64\n",
            "\n",
            "\n"
          ]
        },
        {
          "output_type": "display_data",
          "data": {
            "text/plain": [
              "<Figure size 640x480 with 1 Axes>"
            ],
            "image/png": "[encoded data removed]"
          },
          "metadata": {}
        },
        {
          "output_type": "stream",
          "name": "stdout",
          "text": [
            "Problem 5: Mean Survival Rate by Embarked Port\n",
            "Embarked\n",
            "C    0.553571\n",
            "Q    0.389610\n",
            "S    0.336957\n",
            "Name: Survived, dtype: float64\n",
            "\n",
            "\n"
          ]
        },
        {
          "output_type": "display_data",
          "data": {
            "text/plain": [
              "<Figure size 640x480 with 1 Axes>"
            ],
            "image/png": "[encoded data removed]"
          },
          "metadata": {}
        },
        {
          "output_type": "stream",
          "name": "stdout",
          "text": [
            "Problem 6: Survival Rate by Age Group and Passenger Class\n",
            "Pclass  AgeGroup\n",
            "1       0.0         0.809524\n",
            "        1.0         0.761905\n",
            "        2.0         0.666667\n",
            "        3.0         0.777778\n",
            "        4.0         0.506667\n",
            "2       0.0         0.742857\n",
            "        1.0         0.400000\n",
            "        2.0         0.416667\n",
            "        3.0         0.461538\n",
            "        4.0         0.363636\n",
            "3       0.0         0.333333\n",
            "        1.0         0.197674\n",
            "        2.0         0.283582\n",
            "        3.0         0.166667\n",
            "        4.0         0.088235\n",
            "Name: Survived, dtype: float64\n"
          ]
        }
      ]
    },
    {
      "cell_type": "code",
      "source": [],
      "metadata": {
        "id": "O6RkPg1e6QNZ"
      },
      "execution_count": null,
      "outputs": []
    }
  ]
}